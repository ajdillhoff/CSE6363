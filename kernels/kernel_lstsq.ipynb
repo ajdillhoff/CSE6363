{
 "cells": [
  {
   "cell_type": "code",
   "execution_count": null,
   "metadata": {},
   "outputs": [],
   "source": [
    "import numpy as np\n",
    "from sklearn.preprocessing import PolynomialFeatures\n",
    "from sklearn.linear_model import Ridge\n",
    "from sklearn.kernel_ridge import KernelRidge\n",
    "\n",
    "\n",
    "num_samples = 1000\n",
    "num_features = 100\n",
    "\n",
    "# Create a sample dataset with a leading one for the bias term\n",
    "X = np.random.randn(num_samples, num_features + 1)\n",
    "X[:, 0] = 1.0\n",
    "\n",
    "# Create the labels\n",
    "y = np.random.randn(num_samples, 1)\n",
    "\n",
    "# Create a feature transform that transforms the input into a vector that contains all the monomials of degree <= 3\n",
    "feature_transform = PolynomialFeatures(degree=3, include_bias=False)\n",
    "X_transformed = feature_transform.fit_transform(X)\n",
    "\n",
    "print(\"X_transformed.shape = {}\".format(X_transformed.shape))\n"
   ]
  },
  {
   "cell_type": "code",
   "execution_count": null,
   "metadata": {},
   "outputs": [],
   "source": [
    "# Benchmark transforming the features and fitting a linear regression model\n",
    "%timeit feature_transform.fit_transform(X)\n",
    "%timeit Ridge().fit(X_transformed, y)"
   ]
  },
  {
   "cell_type": "code",
   "execution_count": null,
   "metadata": {},
   "outputs": [],
   "source": [
    "# The kernel matrix is the inner product of the transformed features\n",
    "# We can create this using the original data\n",
    "def kernel(x, y):\n",
    "    \"\"\"\n",
    "    Computes the kernel matrix for the polynomial kernel of degree 3\n",
    "\n",
    "    :param x: The original data matrix (n_samples, n_features)\n",
    "    :param y: The input sample (n_features, 1)\n",
    "    \"\"\"\n",
    "    k = x @ y\n",
    "    return 1 + k + k**2 + k**3\n",
    "\n",
    "def precompute_kernel(X):\n",
    "    K = X @ X.T\n",
    "    return 1 + K + K**2 + K**3\n",
    "\n",
    "# Prec ompute the kernel matrix\n",
    "alpha = 1.0\n",
    "K = precompute_kernel(X)\n",
    "a = np.linalg.solve(K + alpha * np.eye(K.shape[0]), y)\n",
    "\n",
    "# Benchmark fitting a kernel ridge regression model\n",
    "%timeit precompute_kernel(X)\n",
    "%timeit np.linalg.solve(K + alpha * np.eye(K.shape[0]), y)"
   ]
  },
  {
   "cell_type": "markdown",
   "metadata": {},
   "source": [
    "# Comparing Ridge Regression vs. Kernel Ridge Regression\n",
    "\n",
    "We saw above that kernels can reduce the complexity of the model, leading to faster training and better generalization. Let's compare both approaches on the digits dataset."
   ]
  },
  {
   "cell_type": "code",
   "execution_count": null,
   "metadata": {},
   "outputs": [],
   "source": [
    "from sklearn.datasets import load_digits\n",
    "from sklearn.model_selection import train_test_split\n",
    "from sklearn.metrics import accuracy_score\n",
    "\n",
    "# Load the digits dataset\n",
    "housing = load_digits()\n",
    "X = housing['data']\n",
    "y = housing['target']\n",
    "\n",
    "# Split the dataset into a training and a test set\n",
    "X_train, X_test, y_train, y_test = train_test_split(X, y, test_size=0.2, random_state=1)\n",
    "\n",
    "# Fit a kernel ridge regression model\n",
    "alpha = 1.0\n",
    "gamma = 1.0\n",
    "krr = KernelRidge(alpha=alpha, kernel='poly', gamma=gamma)\n",
    "krr.fit(X_train, y_train)\n",
    "\n",
    "# Predict the labels\n",
    "y_pred = krr.predict(X_test)\n",
    "\n",
    "# Compute the accuracy\n",
    "accuracy = accuracy_score(y_test, y_pred.round())\n",
    "\n",
    "print(\"Kernel Ridge Accuracy = {:.2f}%\".format(accuracy * 100))\n",
    "\n",
    "# Fit a ridge regression model\n",
    "ridge = Ridge(alpha=alpha)\n",
    "ridge.fit(X_train, y_train)\n",
    "\n",
    "# Predict the labels\n",
    "y_pred = ridge.predict(X_test)\n",
    "\n",
    "# Compute the accuracy\n",
    "accuracy = accuracy_score(y_test, y_pred.round())\n",
    "\n",
    "print(\"Ridge Regression Accuracy = {:.2f}%\".format(accuracy * 100))"
   ]
  }
 ],
 "metadata": {
  "kernelspec": {
   "display_name": "cse6363",
   "language": "python",
   "name": "python3"
  },
  "language_info": {
   "codemirror_mode": {
    "name": "ipython",
    "version": 3
   },
   "file_extension": ".py",
   "mimetype": "text/x-python",
   "name": "python",
   "nbconvert_exporter": "python",
   "pygments_lexer": "ipython3",
   "version": "3.12.3"
  },
  "orig_nbformat": 4
 },
 "nbformat": 4,
 "nbformat_minor": 2
}
