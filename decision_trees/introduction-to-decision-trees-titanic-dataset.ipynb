{
 "cells": [
  {
   "cell_type": "markdown",
   "metadata": {
    "_cell_guid": "09d128bb-4feb-3438-c125-869839bb0c16"
   },
   "source": [
    "## Abstract ##\n",
    "\n",
    "In this Kernel we're going to take a look at [*Decision Trees*][1] using *Python* and the Titanic dataset. It's not intended to be the most accurate Titanic survival model out there, but to explain how to create, visualise and understand *Classification Trees*. The main aspects covered are:\n",
    "\n",
    " - Learning from the data with *Decision Trees*\n",
    " - Dataset exploration and processing\n",
    " - Relevant features for *Decision Trees*\n",
    " - Gini Impurity\n",
    " - Finding best tree depth with the help of cross-validation\n",
    " - Generating and visualising the final model\n",
    "\n",
    "This is my first Kernel, so please feel free to include any suggestions, comments or critics!\n",
    "\n",
    "[1]: https://en.wikipedia.org/wiki/Decision_tree_learning"
   ]
  },
  {
   "cell_type": "markdown",
   "metadata": {
    "_cell_guid": "0ed22e93-8f2e-dc75-ab5d-57501c7ff60a"
   },
   "source": [
    "Introduction\n",
    "--------------------\n",
    "\n",
    "When applying Machine Learning algorithms, it's critical to always keep in mind the problem we're trying to solve. In most cases, the most accurate and robust model might be what you're looking for. But sometimes we need to actually get insights from the available data and in these cases transparent, easy to understand models like *Decision Trees* will greatly simplify our task.\n",
    "\n",
    "If we need to build a model that will be directly used for some task and **only show it's end results**, then we don't really care about building some kind of \"blackbox\" if it's accurate enough (image or speech recognition for example). That's why advanced techniques such as [*Deep Learning*][1] or [*Ensemble Learning*][2]  (cf. [Anisotropic Kernel][3]) are commonly used for complex tasks. But remember the KISS principle (Keep It Simple, Stupid)! Always consider the complexity/accuracy trade-off: complex techniques should only be used if they offer significant improvements. Simpler models are also less prone to over-fitting and tend to generalise better.\n",
    "\n",
    "But if we're using Machine Learning to actually **get insights from the data**, \"blackbox\" models are almost useless and it's best to stick with simpler, transparent techniques. Let's take the case of a supermarket looking to better understand customer behaviour: the straightforward [*Apriori*][4] algorithm can quickly offer relevant insights like \"80% of customers who bought a suit also bought a tie\" so they may try to increase tie sales by offering a discount to clients buying a suit . Of course, a complex classification algorithm will do better at identifying the customers who bought a tie by taking into account more features, but is that really useful for the supermarket?\n",
    "\n",
    "*Decision Trees* can also help a lot when we need to understanding the data. A good example is the traditional problem of classifying Iris flowers included in the [sklearn documentation][5], were we can learn about the characteristics of each flower type in the resulting tree. Given their transparency and relatively low computational cost, *Decision Trees* are also very useful for exploring your data before applying other algorithms. They're helpful for checking the quality of engineered features and identifying the most relevant ones by visualising the resulting tree.\n",
    "\n",
    "The main downsides of *Decision Trees* are their tendency to over-fit, their inability to grasp relationships between features, and the use of greedy learning algorithms (not guaranteed to find the global optimal model). Using them in a [*Random Forest*][6] helps mitigate some of this issues.\n",
    "\n",
    "After this short introduction to *Decision Trees* and their place in Machine Learning, let's see how to apply them for the Titanic challenge. First, we're going to prepare the dataset and discuss the most relevant features. We'll then find the best tree depth to avoid over-fitting, generate the final model, and explain how to visualise the resulting tree.\n",
    "\n",
    "\n",
    "  [1]: https://en.wikipedia.org/wiki/Deep_learning\n",
    "  [2]: https://en.wikipedia.org/wiki/Ensemble_learning\n",
    "  [3]: https://www.kaggle.com/arthurtok/titanic/introduction-to-ensembling-stacking-in-python\n",
    "  [4]: https://en.wikipedia.org/wiki/Apriori_algorithm\n",
    "  [5]: http://scikit-learn.org/stable/modules/tree.html\n",
    "  [6]: https://en.wikipedia.org/wiki/Random_forest"
   ]
  },
  {
   "cell_type": "markdown",
   "metadata": {
    "_cell_guid": "af6bb647-50c9-cb5e-5b00-ea49474ff254"
   },
   "source": [
    "## Preparing the Titanic dataset ##\n",
    "\n",
    "For the Titanic challenge we need to guess wheter the individuals from the *test* dataset had survived or not. But for our current purpose let's also find out what can the data tell us about the shipwreck with the help of a *Classification Tree*. Let's load the data and get an overview."
   ]
  },
  {
   "cell_type": "code",
   "execution_count": null,
   "metadata": {
    "_cell_guid": "d66580d1-f255-86b9-e5c0-f012342ab8d8"
   },
   "outputs": [],
   "source": [
    "# Imports needed for the script\n",
    "import numpy as np\n",
    "import pandas as pd\n",
    "import re\n",
    "import xgboost as xgb\n",
    "import seaborn as sns\n",
    "import matplotlib.pyplot as plt\n",
    "\n",
    "import plotly.offline as py\n",
    "py.init_notebook_mode(connected=True)\n",
    "import plotly.graph_objs as go\n",
    "import plotly.tools as tls\n",
    "\n",
    "from sklearn import tree\n",
    "from sklearn.metrics import accuracy_score\n",
    "from sklearn.model_selection import KFold\n",
    "from sklearn.model_selection import cross_val_score\n",
    "from IPython.display import Image as PImage\n",
    "from subprocess import check_call\n",
    "from PIL import Image, ImageDraw, ImageFont\n",
    "\n",
    "# Loading the data\n",
    "train = pd.read_csv('titanic/train.csv')\n",
    "test = pd.read_csv('titanic/test.csv')\n",
    "\n",
    "# Store our test passenger IDs for easy access\n",
    "PassengerId = test['PassengerId']\n",
    "\n",
    "# Showing overview of the train dataset\n",
    "train.head(5)"
   ]
  },
  {
   "cell_type": "markdown",
   "metadata": {
    "_cell_guid": "9c395abd-2eca-0067-23a3-4356a25703ea"
   },
   "source": [
    "Thanks to this overview we can see that our dataset needs some treatment. The class *Survived* is already in binary format so no additional formatting is necessary, but features like *Name*, *Ticket* or *Cabin* need to be adapted for the problem we're trying to solve, and we can also engineer some new features by merging or regrouping existing ones. There's already extended work on this so we're just using one the best approches out there (credit to [Sina][1], [Anisotropic][2] and also [Megan Risdal][3] for the suggestion of the \"Title\" feature).\n",
    "\n",
    "\n",
    "  [1]: https://www.kaggle.com/sinakhorami/titanic/titanic-best-working-classifier\n",
    "  [2]: https://www.kaggle.com/arthurtok/titanic/introduction-to-ensembling-stacking-in-python\n",
    "  [3]: https://www.kaggle.com/mrisdal/titanic/exploring-survival-on-the-titanic"
   ]
  },
  {
   "cell_type": "code",
   "execution_count": null,
   "metadata": {
    "_cell_guid": "72063fe1-8b92-850b-3ede-5e030c7429ae"
   },
   "outputs": [],
   "source": [
    "# Copy original dataset in case we need it later when digging into interesting features\n",
    "# WARNING: Beware of actually copying the dataframe instead of just referencing it\n",
    "# \"original_train = train\" will create a reference to the train variable (changes in 'train' will apply to 'original_train')\n",
    "original_train = train.copy() # Using 'copy()' allows to clone the dataset, creating a different object with the same values\n",
    "\n",
    "# Feature engineering steps taken from Sina and Anisotropic, with minor changes to avoid warnings\n",
    "full_data = [train, test]\n",
    "\n",
    "# Feature that tells whether a passenger had a cabin on the Titanic\n",
    "train['Has_Cabin'] = train[\"Cabin\"].apply(lambda x: 0 if type(x) == float else 1)\n",
    "test['Has_Cabin'] = test[\"Cabin\"].apply(lambda x: 0 if type(x) == float else 1)\n",
    "\n",
    "# Create new feature FamilySize as a combination of SibSp and Parch\n",
    "for dataset in full_data:\n",
    "    dataset['FamilySize'] = dataset['SibSp'] + dataset['Parch'] + 1\n",
    "# Create new feature IsAlone from FamilySize\n",
    "for dataset in full_data:\n",
    "    dataset['IsAlone'] = 0\n",
    "    dataset.loc[dataset['FamilySize'] == 1, 'IsAlone'] = 1\n",
    "# Remove all NULLS in the Embarked column\n",
    "for dataset in full_data:\n",
    "    dataset['Embarked'] = dataset['Embarked'].fillna('S')\n",
    "# Remove all NULLS in the Fare column\n",
    "for dataset in full_data:\n",
    "    dataset['Fare'] = dataset['Fare'].fillna(train['Fare'].median())\n",
    "\n",
    "# Remove all NULLS in the Age column\n",
    "for dataset in full_data:\n",
    "    age_avg = dataset['Age'].mean()\n",
    "    age_std = dataset['Age'].std()\n",
    "    age_null_count = dataset['Age'].isnull().sum()\n",
    "    age_null_random_list = np.random.randint(age_avg - age_std, age_avg + age_std, size=age_null_count)\n",
    "    # Next line has been improved to avoid warning\n",
    "    dataset.loc[np.isnan(dataset['Age']), 'Age'] = age_null_random_list\n",
    "    dataset['Age'] = dataset['Age'].astype(int)\n",
    "\n",
    "# Define function to extract titles from passenger names\n",
    "def get_title(name):\n",
    "    title_search = re.search(' ([A-Za-z]+)\\.', name)\n",
    "    # If the title exists, extract and return it.\n",
    "    if title_search:\n",
    "        return title_search.group(1)\n",
    "    return \"\"\n",
    "\n",
    "for dataset in full_data:\n",
    "    dataset['Title'] = dataset['Name'].apply(get_title)\n",
    "# Group all non-common titles into one single grouping \"Rare\"\n",
    "for dataset in full_data:\n",
    "    dataset['Title'] = dataset['Title'].replace(['Lady', 'Countess','Capt', 'Col','Don', 'Dr', 'Major', 'Rev', 'Sir', 'Jonkheer', 'Dona'], 'Rare')\n",
    "\n",
    "    dataset['Title'] = dataset['Title'].replace('Mlle', 'Miss')\n",
    "    dataset['Title'] = dataset['Title'].replace('Ms', 'Miss')\n",
    "    dataset['Title'] = dataset['Title'].replace('Mme', 'Mrs')\n",
    "\n",
    "for dataset in full_data:\n",
    "    # Mapping Sex\n",
    "    dataset['Sex'] = dataset['Sex'].map( {'female': 0, 'male': 1} ).astype(int)\n",
    "    \n",
    "    # Mapping titles\n",
    "    title_mapping = {\"Mr\": 1, \"Master\": 2, \"Mrs\": 3, \"Miss\": 4, \"Rare\": 5}\n",
    "    dataset['Title'] = dataset['Title'].map(title_mapping)\n",
    "    dataset['Title'] = dataset['Title'].fillna(0)\n",
    "\n",
    "    # Mapping Embarked\n",
    "    dataset['Embarked'] = dataset['Embarked'].map( {'S': 0, 'C': 1, 'Q': 2} ).astype(int)\n",
    "    \n",
    "    # Mapping Fare\n",
    "    dataset.loc[ dataset['Fare'] <= 7.91, 'Fare'] \t\t\t\t\t\t        = 0\n",
    "    dataset.loc[(dataset['Fare'] > 7.91) & (dataset['Fare'] <= 14.454), 'Fare'] = 1\n",
    "    dataset.loc[(dataset['Fare'] > 14.454) & (dataset['Fare'] <= 31), 'Fare']   = 2\n",
    "    dataset.loc[ dataset['Fare'] > 31, 'Fare'] \t\t\t\t\t\t\t        = 3\n",
    "    dataset['Fare'] = dataset['Fare'].astype(int)\n",
    "    \n",
    "    # Mapping Age\n",
    "    dataset.loc[ dataset['Age'] <= 16, 'Age'] \t\t\t\t\t       = 0\n",
    "    dataset.loc[(dataset['Age'] > 16) & (dataset['Age'] <= 32), 'Age'] = 1\n",
    "    dataset.loc[(dataset['Age'] > 32) & (dataset['Age'] <= 48), 'Age'] = 2\n",
    "    dataset.loc[(dataset['Age'] > 48) & (dataset['Age'] <= 64), 'Age'] = 3\n",
    "    dataset.loc[ dataset['Age'] > 64, 'Age'] ;"
   ]
  },
  {
   "cell_type": "code",
   "execution_count": null,
   "metadata": {
    "_cell_guid": "0486bde8-a09f-93c6-832d-c5c9760e2f6e"
   },
   "outputs": [],
   "source": [
    "# Feature selection: remove variables no longer containing relevant information\n",
    "drop_elements = ['PassengerId', 'Name', 'Ticket', 'Cabin', 'SibSp']\n",
    "train = train.drop(drop_elements, axis = 1)\n",
    "test  = test.drop(drop_elements, axis = 1)"
   ]
  },
  {
   "cell_type": "markdown",
   "metadata": {
    "_cell_guid": "abef639b-2b31-4209-20ef-d8ba15c4de74"
   },
   "source": [
    "## Visualising processed data ##"
   ]
  },
  {
   "cell_type": "code",
   "execution_count": null,
   "metadata": {
    "_cell_guid": "b587a7d3-36be-408e-0dee-6fd292e9621b"
   },
   "outputs": [],
   "source": [
    "train.head(5)"
   ]
  },
  {
   "cell_type": "markdown",
   "metadata": {
    "_cell_guid": "cc298a8b-1fb3-21f9-6437-1fd6cd93d35e"
   },
   "source": [
    "Our dataset is now much cleaner than before, with only numerical values and potentially meaningful features. Let's now explore the relationship between our variables by plotting the Pearson Correlation between all the attributes in our dataset (credit to [Anisotropic][1] for this beautiful plot):\n",
    "\n",
    "\n",
    "  [1]: https://www.kaggle.com/arthurtok/titanic/introduction-to-ensembling-stacking-in-python"
   ]
  },
  {
   "cell_type": "code",
   "execution_count": null,
   "metadata": {
    "_cell_guid": "d289fd14-d3a9-6131-3b3a-058edced24f1"
   },
   "outputs": [],
   "source": [
    "colormap = plt.cm.viridis\n",
    "plt.figure(figsize=(12,12))\n",
    "plt.title('Pearson Correlation of Features', y=1.05, size=15)\n",
    "sns.heatmap(train.astype(float).corr(),linewidths=0.1,vmax=1.0, square=True, cmap=colormap, linecolor='white', annot=True)"
   ]
  },
  {
   "cell_type": "markdown",
   "metadata": {
    "_cell_guid": "06e3df1e-de4c-bff7-e364-268403cc2da3"
   },
   "source": [
    "This heatmap is very useful as an initial observation because you can easily get an idea of the predictive value of each feature. In this case, *Sex* and *Title* show the highest correlations (in absolute terms) with the class (*Survived*): 0.54 and 0.49 respectively. But the absolute correlation between both is also very high (0.86, the highest in our dataset), so they are probably carrying the same information and using the two as inputs for the same model wouldn't be a good idea.  High chances are one of them will be used for the first node in our final decision tree, so let's first explore further these features and compare them."
   ]
  },
  {
   "cell_type": "markdown",
   "metadata": {
    "_cell_guid": "28861e40-1c0b-d4f7-312b-e7f64cb3e5ae"
   },
   "source": [
    "*Title* VS *Sex*\n",
    "-------"
   ]
  },
  {
   "cell_type": "markdown",
   "metadata": {
    "_cell_guid": "8f9f52f7-c758-0614-1c05-c0e4d6a17a44"
   },
   "source": [
    "You can easily compare features and their relationship with the class by grouping them and calculating some basic statistics for each group.  The code below does exactly this in one line, and explains the meaning of each metric when working with a binary class."
   ]
  },
  {
   "cell_type": "code",
   "execution_count": null,
   "metadata": {
    "_cell_guid": "ce843f51-6f28-ef63-5f21-5f6bf8802e7f"
   },
   "outputs": [],
   "source": [
    "train[['Title', 'Survived']].groupby(['Title'], as_index=False).agg(['mean', 'count', 'sum'])\n",
    "# Since \"Survived\" is a binary class (0 or 1), these metrics grouped by the Title feature represent:\n",
    "    # MEAN: survival rate\n",
    "    # COUNT: total observations\n",
    "    # SUM: people survived\n",
    "\n",
    "# title_mapping = {\"Mr\": 1, \"Miss\": 2, \"Mrs\": 3, \"Master\": 4, \"Rare\": 5} "
   ]
  },
  {
   "cell_type": "code",
   "execution_count": null,
   "metadata": {
    "_cell_guid": "05abd10a-b698-dc8a-f745-59436608e38c"
   },
   "outputs": [],
   "source": [
    "train[['Sex', 'Survived']].groupby(['Sex'], as_index=False).agg(['mean', 'count', 'sum'])\n",
    "# Since Survived is a binary feature, this metrics grouped by the Sex feature represent:\n",
    "    # MEAN: survival rate\n",
    "    # COUNT: total observations\n",
    "    # SUM: people survived\n",
    "    \n",
    "# sex_mapping = {{'female': 0, 'male': 1}} "
   ]
  },
  {
   "cell_type": "markdown",
   "metadata": {
    "_cell_guid": "e72f4218-550f-342c-65fc-ca3bc0e0d336"
   },
   "source": [
    "The data shows that less 'Mr' survived (15,67%) than men in general (18.89%): *Title* seems therefore to be more useful than *Sex* for our purpose. This may be because *Title* implicitly includes information about *Sex* in most cases. To verify this, we can use the copy we made of the original training data without mappings and check the distribution of *Sex* grouped by *Title*."
   ]
  },
  {
   "cell_type": "code",
   "execution_count": null,
   "metadata": {
    "_cell_guid": "a9e03eff-7835-6804-ee13-3cf3f7a80652"
   },
   "outputs": [],
   "source": [
    "# Let's use our 'original_train' dataframe to check the sex distribution for each title.\n",
    "# We use copy() again to prevent modifications in out original_train dataset\n",
    "title_and_sex = original_train.copy()[['Name', 'Sex']]\n",
    "\n",
    "# Create 'Title' feature\n",
    "title_and_sex['Title'] = title_and_sex['Name'].apply(get_title)\n",
    "\n",
    "# Map 'Sex' as binary feature\n",
    "title_and_sex['Sex'] = title_and_sex['Sex'].map( {'female': 0, 'male': 1} ).astype(int)\n",
    "\n",
    "# Table with 'Sex' distribution grouped by 'Title'\n",
    "title_and_sex[['Title', 'Sex']].groupby(['Title'], as_index=False).agg(['mean', 'count', 'sum'])\n",
    "\n",
    "# Since Sex is a binary feature, this metrics grouped by the Title feature represent:\n",
    "    # MEAN: percentage of men\n",
    "    # COUNT: total observations\n",
    "    # SUM: number of men"
   ]
  },
  {
   "cell_type": "markdown",
   "metadata": {
    "_cell_guid": "05cb2f35-88cd-35ed-3110-370eb5fa6188"
   },
   "source": [
    "We find that, excepting for a single observation (a female with 'Dr' title), all the observations for a given *Title* share the same *Sex*. Therefore the feature *Title* is capturing all the information present in *Sex*. In addition, *Title* may be more valuable to our task by capturing other characteristics of the individuals like age, social class, personality, ...\n",
    "\n",
    "It's true that by regrouping rare titles into a single category, we are losing some information regarding *Sex*. We could create two categories \"Rare Male\" and \"Rare Female\", but the separation will be almost meaningless due to the low occurrence of \"Rare\" *Titles* (2.6%, 23 out of 891 samples).\n",
    "\n",
    "Thanks to this in-depth analysis of the *Sex* and *Title* features we've seen that, even if the correlation of the feature *Sex* with the class *Survived* was higher,  *Title* is a richer feature because it carries the *Sex* information but also adds other characteristics. Therefore is very likely that *Title* is going to be the first feature in our final decision tree, making *Sex* useless after this initial split."
   ]
  },
  {
   "cell_type": "markdown",
   "metadata": {
    "_cell_guid": "fc88647a-68c0-b399-0b01-bae0064b9a91"
   },
   "source": [
    "## Gini Impurity ##\n",
    "\n",
    "Before start working with *Decision Trees*, let's briefly explain how they work. The goal of their learning algorithms is always to find the best split for each node of the tree. But measuring the \"goodness\" of a given split is a subjective question so, in practice, different metrics are used for evaluating splits. One commonly used metric is [Information Gain][1]. The *sklearn* library we're gonna use implements [Gini Impurity][2], another common measure, so let’s explain it.\n",
    "\n",
    "Gini Impurity measures the disorder of a set of elements. It is calculated as the probability of mislabelling an element assuming that the element is randomly labelled according the the distribution of all the classes in the set. *Decision Trees* will try to find the split which decreases Gini Impurity the most across the two resulting nodes. For the titanic example it can be calculated as follows (code should be explicit enough):\n",
    "\n",
    "\n",
    "  [1]: https://en.wikipedia.org/wiki/Information_gain_in_decision_trees\n",
    "  [2]: https://en.wikipedia.org/wiki/Decision_tree_learning#Gini_impurity"
   ]
  },
  {
   "cell_type": "code",
   "execution_count": null,
   "metadata": {
    "_cell_guid": "1efa362d-39b9-a193-a35d-051fdfafb35f"
   },
   "outputs": [],
   "source": [
    "# Define function to calculate Gini Impurity\n",
    "def get_gini_impurity(survived_count, total_count):\n",
    "    survival_prob = survived_count/total_count\n",
    "    not_survival_prob = (1 - survival_prob)\n",
    "    random_observation_survived_prob = survival_prob\n",
    "    random_observation_not_survived_prob = (1 - random_observation_survived_prob)\n",
    "    mislabelling_survided_prob = not_survival_prob * random_observation_survived_prob\n",
    "    mislabelling_not_survided_prob = survival_prob * random_observation_not_survived_prob\n",
    "    gini_impurity = mislabelling_survided_prob + mislabelling_not_survided_prob\n",
    "    return gini_impurity"
   ]
  },
  {
   "cell_type": "markdown",
   "metadata": {
    "_cell_guid": "0cecfd1b-5bbc-772b-042c-ad08049ac233"
   },
   "source": [
    "Let's use our *Sex* and *Title* features as an example and calculate how much each split will decrease the overall weighted Gini Impurity. First, we need to calculate the Gini Impurity of the starting node including all 891 observations in our train dataset. Since only 342 observations survived, the survival probability is around 38,38% (342/891)."
   ]
  },
  {
   "cell_type": "code",
   "execution_count": null,
   "metadata": {
    "_cell_guid": "d752e767-c0df-3eea-f587-e4d21a09128e"
   },
   "outputs": [],
   "source": [
    "# Gini Impurity of starting node\n",
    "gini_impurity_starting_node = get_gini_impurity(342, 891)\n",
    "gini_impurity_starting_node"
   ]
  },
  {
   "cell_type": "markdown",
   "metadata": {
    "_cell_guid": "773177aa-a668-8541-3f03-e0ec7d87fba2"
   },
   "source": [
    "We're now going to simulate both splits, calculate the impurity of resulting nodes and then obtain the weighted Gini Impurity after the split to measure how much each split has actually reduced impurity.\n",
    "\n",
    "If we split by *Sex*, we'll have the two following nodes:\n",
    "\n",
    " - Node with men: 577 observations with only 109 survived\n",
    " - Node with women: 314 observations with 233 survived"
   ]
  },
  {
   "cell_type": "code",
   "execution_count": null,
   "metadata": {
    "_cell_guid": "cd0f8a03-db86-62c2-c88a-2d54de7531bc"
   },
   "outputs": [],
   "source": [
    "# Gini Impurity decrease of node for 'male' observations\n",
    "gini_impurity_men = get_gini_impurity(109, 577)\n",
    "gini_impurity_men"
   ]
  },
  {
   "cell_type": "code",
   "execution_count": null,
   "metadata": {
    "_cell_guid": "183aa17e-27a9-0fae-35e9-34ff2f8f6c6a"
   },
   "outputs": [],
   "source": [
    "# Gini Impurity decrease if node splited for 'female' observations\n",
    "gini_impurity_women = get_gini_impurity(233, 314)\n",
    "gini_impurity_women"
   ]
  },
  {
   "cell_type": "code",
   "execution_count": null,
   "metadata": {
    "_cell_guid": "60d97095-3d8a-803a-f649-647cfb6f2965"
   },
   "outputs": [],
   "source": [
    "# Gini Impurity decrease if node splited by Sex\n",
    "men_weight = 577/891\n",
    "women_weight = 314/891\n",
    "weighted_gini_impurity_sex_split = (gini_impurity_men * men_weight) + (gini_impurity_women * women_weight)\n",
    "\n",
    "sex_gini_decrease = weighted_gini_impurity_sex_split - gini_impurity_starting_node\n",
    "sex_gini_decrease"
   ]
  },
  {
   "cell_type": "markdown",
   "metadata": {
    "_cell_guid": "c2193bce-c628-0154-d205-7f37c985ab35"
   },
   "source": [
    "If we split by *Title* == 1 (== Mr), we'll have the two following nodes:\n",
    "\n",
    " - Node with only Mr: 517 observations with only 81 survived\n",
    " - Node with other titles: 374 observations with 261 survived"
   ]
  },
  {
   "cell_type": "code",
   "execution_count": null,
   "metadata": {
    "_cell_guid": "a8cf9b6c-5299-e522-07d7-cd9f1914afb8"
   },
   "outputs": [],
   "source": [
    "# Gini Impurity decrease of node for observations with Title == 1 == Mr\n",
    "gini_impurity_title_1 = get_gini_impurity(81, 517)\n",
    "gini_impurity_title_1"
   ]
  },
  {
   "cell_type": "code",
   "execution_count": null,
   "metadata": {
    "_cell_guid": "b0a7c30e-d8d7-9fdb-747e-1187a158051a"
   },
   "outputs": [],
   "source": [
    "# Gini Impurity decrease if node splited for observations with Title != 1 != Mr\n",
    "gini_impurity_title_others = get_gini_impurity(261, 374)\n",
    "gini_impurity_title_others"
   ]
  },
  {
   "cell_type": "code",
   "execution_count": null,
   "metadata": {
    "_cell_guid": "8dd27088-768a-b1cd-aa51-0c907e066880"
   },
   "outputs": [],
   "source": [
    "# Gini Impurity decrease if node splited for observations with Title == 1 == Mr\n",
    "title_1_weight = 517/891\n",
    "title_others_weight = 374/891\n",
    "weighted_gini_impurity_title_split = (gini_impurity_title_1 * title_1_weight) + (gini_impurity_title_others * title_others_weight)\n",
    "\n",
    "title_gini_decrease = weighted_gini_impurity_title_split - gini_impurity_starting_node\n",
    "title_gini_decrease"
   ]
  },
  {
   "cell_type": "markdown",
   "metadata": {
    "_cell_guid": "d1990369-420d-c755-71e9-5568307559f3"
   },
   "source": [
    "We find that the *Title* feature is slightly better at reducing the Gini Impurity than *Sex*. This confirms our previous analysis, and we're now sure that *Title* will be used for the first split. *Sex* will therefore be neglected since the information is already included in the *Title* feature.  If you want to learn more about how *Decision Trees* work, I recommend you to follow the links in this [Kaggle discussion][3].\n",
    "\n",
    "  [3]: https://www.kaggle.com/c/titanic/discussion/10169"
   ]
  },
  {
   "cell_type": "markdown",
   "metadata": {
    "_cell_guid": "a9323d91-0b96-4811-5783-bfe85116a907"
   },
   "source": [
    "## Finding best tree depth with the help of Cross Validation ##\n",
    "\n",
    "After exploring the data, we're going to find of much of it can be relevant for our decision tree. This is a critical point for every Data Science project, since too much train data can easily result in bad model generalisation (accuracy on test/real/unseen observations). Over-fitting (a model excessively adapted to the train data) is a common reason. In other cases, too much data can also hide meaningful relationships either because they evolve with time or because highly correlated features prevent the model from capturing properly the value of each single one.\n",
    "\n",
    "In the case of decision trees, the 'max_depth' parameter determines the maximum number of attributes the model is going to use for each prediction (up to the number of available features in the dataset).  A good way to find the best value for this parameter is just iterating through all the possible depths and measure the accuracy with a robust method such as [Cross Validation][1].\n",
    "\n",
    "*Cross Validation* is a model validation technique that splits the training dataset in a given number of \"folds\". Each split uses different data for training and testing purposes, allowing the model to be trained and tested with different data each time. This allows the algorithm to be trained and tested with all available data across all folds, avoiding any splitting bias and giving a good idea of the generalisation of the chosen model. The main downside is that *Cross Validation* requires the model to be trained for each fold, so the computational cost can be very high for complex models or huge datasets.\n",
    "\n",
    "\n",
    "  [1]: https://en.wikipedia.org/wiki/Cross-validation_(statistics)"
   ]
  },
  {
   "cell_type": "code",
   "execution_count": null,
   "metadata": {
    "_cell_guid": "33f3999e-e0da-0e2e-dfa1-7be4824c6a36"
   },
   "outputs": [],
   "source": [
    "cv = KFold(n_splits=10)            # Desired number of Cross Validation folds\n",
    "accuracies = list()\n",
    "max_attributes = len(list(test))\n",
    "depth_range = range(1, max_attributes + 1)\n",
    "\n",
    "# Testing max_depths from 1 to max attributes\n",
    "# Uncomment prints for details about each Cross Validation pass\n",
    "for depth in depth_range:\n",
    "    fold_accuracy = []\n",
    "    tree_model = tree.DecisionTreeClassifier(max_depth = depth)\n",
    "    # print(\"Current max depth: \", depth, \"\\n\")\n",
    "    for train_fold, valid_fold in cv.split(train):\n",
    "        f_train = train.loc[train_fold] # Extract train data with cv indices\n",
    "        f_valid = train.loc[valid_fold] # Extract valid data with cv indices\n",
    "\n",
    "        model = tree_model.fit(X = f_train.drop(['Survived'], axis=1), \n",
    "                               y = f_train[\"Survived\"]) # We fit the model with the fold train data\n",
    "        valid_acc = model.score(X = f_valid.drop(['Survived'], axis=1), \n",
    "                                y = f_valid[\"Survived\"])# We calculate accuracy with the fold validation data\n",
    "        fold_accuracy.append(valid_acc)\n",
    "\n",
    "    avg = sum(fold_accuracy)/len(fold_accuracy)\n",
    "    accuracies.append(avg)\n",
    "    # print(\"Accuracy per fold: \", fold_accuracy, \"\\n\")\n",
    "    # print(\"Average accuracy: \", avg)\n",
    "    # print(\"\\n\")\n",
    "    \n",
    "# Just to show results conveniently\n",
    "df = pd.DataFrame({\"Max Depth\": depth_range, \"Average Accuracy\": accuracies})\n",
    "df = df[[\"Max Depth\", \"Average Accuracy\"]]\n",
    "print(df.to_string(index=False))"
   ]
  },
  {
   "cell_type": "markdown",
   "metadata": {
    "_cell_guid": "e98561cf-fceb-792a-49f6-810ef867d650"
   },
   "source": [
    "The best *max_depth* parameter seems therefore to be 3 (82.8% average accuracy across the 10 folds), and feeding the model with more data results in worst results probably due to over-fitting. We'll therefore use 3 as the *max_depth* parameter for our final model."
   ]
  },
  {
   "cell_type": "markdown",
   "metadata": {
    "_cell_guid": "035b62df-00f6-ab53-7082-227051ff974e"
   },
   "source": [
    "## Final Tree ##"
   ]
  },
  {
   "cell_type": "code",
   "execution_count": null,
   "metadata": {
    "_cell_guid": "012339ff-5353-268f-a97b-752aa4aa3602"
   },
   "outputs": [],
   "source": [
    "# Create Numpy arrays of train, test and target (Survived) dataframes to feed into our models\n",
    "y_train = train['Survived']\n",
    "x_train = train.drop(['Survived'], axis=1).values \n",
    "x_test = test.values\n",
    "\n",
    "# Create Decision Tree with max_depth = 3\n",
    "decision_tree = tree.DecisionTreeClassifier(max_depth = 3)\n",
    "decision_tree.fit(x_train, y_train)\n",
    "\n",
    "# Predicting results for test dataset\n",
    "y_pred = decision_tree.predict(x_test)\n",
    "submission = pd.DataFrame({\n",
    "        \"PassengerId\": PassengerId,\n",
    "        \"Survived\": y_pred\n",
    "    })\n",
    "submission.to_csv('submission.csv', index=False)\n",
    "\n",
    "# Export our trained model as a .dot file\n",
    "with open(\"tree1.dot\", 'w') as f:\n",
    "     f = tree.export_graphviz(decision_tree,\n",
    "                              out_file=f,\n",
    "                              max_depth = 3,\n",
    "                              impurity = True,\n",
    "                              feature_names = list(train.drop(['Survived'], axis=1)),\n",
    "                              class_names = ['Died', 'Survived'],\n",
    "                              rounded = True,\n",
    "                              filled= True )\n",
    "        \n",
    "#Convert .dot to .png to allow display in web notebook\n",
    "#check_call(['dot','-Tpng','tree1.dot','-o','tree1.png'])\n",
    "\n",
    "# Annotating chart with PIL\n",
    "img = Image.open(\"tree1.png\")\n",
    "draw = ImageDraw.Draw(img)\n",
    "# font = ImageFont.truetype('/usr/share/fonts/truetype/liberation/LiberationSerif-Bold.ttf', 26)\n",
    "draw.text((10, 0), # Drawing offset (position)\n",
    "          '\"Title <= 1.5\" corresponds to \"Mr.\" title', # Text to draw\n",
    "          (0,0,255)) # RGB desired color\n",
    "          #font=font) # ImageFont object with desired font\n",
    "img.save('sample-out.png')\n",
    "PImage(\"sample-out.png\")\n",
    "\n",
    "# Code to check available fonts and respective paths\n",
    "# import matplotlib.font_manager\n",
    "# matplotlib.font_manager.findSystemFonts(fontpaths=None, fontext='ttf')"
   ]
  },
  {
   "cell_type": "code",
   "execution_count": null,
   "metadata": {
    "_cell_guid": "da2fb75f-cd2c-f3ac-5f83-a0f1ff989080"
   },
   "outputs": [],
   "source": [
    "acc_decision_tree = round(decision_tree.score(x_train, y_train) * 100, 2)\n",
    "acc_decision_tree"
   ]
  },
  {
   "cell_type": "markdown",
   "metadata": {
    "_cell_guid": "dbd41693-028b-7cd1-3337-66de8fd85d08"
   },
   "source": [
    "Finally, here we have our *Decision Tree*! It achieves an accuracy of 82.38% across the training dataset. Let's begin explaining how to read the graph.\n",
    "\n",
    "The first line of each node (except those of the final row) shows the splitting condition in the form \"*feature* <= *value*\".\n",
    "\n",
    "Next, we find the Gini Impurity of the node, already explained in this kernel. \"Samples\" is simply the number of observations contained in the node.\n",
    "\n",
    "\"Value\" shows the class distribution of the samples ([count non_survived, count survived]).\n",
    "\n",
    "Lastly, \"class\" correspond to the predominant class of each node, and this is how our model will classify an observation. The colour also represents the class, the opacity increasing with the actual distribution of samples.\n",
    "\n",
    "Our model can therefore be summarised with 4 simple rules:\n",
    "\n",
    " - If our observation includes de \"Mr\" *Title*, then we classify it as not survived (all the branches in the left side of the tree lead to an orange node)\n",
    " - If it doesn't include \"Mr\" *Title*, and *FamilySize* is 4 or less, then we classify it as survived.\n",
    " - If it doesn't include \"Mr\" *Title*,  *FamilySize* is  more than 4 and *Pclass* is 2 or less, then we classify it as survived.\n",
    " - If it doesn't include \"Mr\" *Title*,  *FamilySize* is  more than 4 and *Pclass* is more than 2, then we classify it as not survived.\n"
   ]
  },
  {
   "cell_type": "markdown",
   "metadata": {
    "_cell_guid": "1c4c9ece-9a53-31a2-69e3-fff9d3725e3f"
   },
   "source": [
    "Thanks to these rules we can infer some insights about the shipwreck. \"Misters\" seem to have honoured their title and sacrificed themselves in favour on women and men with more exotic titles like \"Master\" or \"Dr\".  We can also note that smaller families had better chances to survive, maybe because bigger families tried to stick together or look for missing members and therefore didn't had places left in the lifeboats. Finally, we can observe that 3rd class passengers had also less chances to survive so probably passengers belonging to upper social social classes were privileged, or simply 3rd class cabins may have been further away of the lifeboats.\n",
    "\n",
    "Our submission to the Titanic competition results in scoring 2234 out of 5672 competition entries. This result only accounts for part of the submission dataset and is indicative while the competition is running. Not bad for a simple *Decision Tree*!\n",
    "\n",
    "And remember, any suggestions, comments or critics are welcome!\n",
    "\n",
    "Thanks for reading,\n",
    "\n",
    "Diego"
   ]
  },
  {
   "cell_type": "markdown",
   "metadata": {},
   "source": [
    "# Evaluating on Random Forests"
   ]
  },
  {
   "cell_type": "code",
   "execution_count": null,
   "metadata": {},
   "outputs": [],
   "source": [
    "from sklearn.ensemble import RandomForestClassifier\n",
    "\n",
    "random_forest = RandomForestClassifier(n_estimators=100)\n",
    "random_forest.fit(x_train, y_train)\n",
    "\n",
    "# Show training accuracy\n",
    "acc_random_forest = round(random_forest.score(x_train, y_train) * 100, 2)\n",
    "acc_random_forest"
   ]
  },
  {
   "cell_type": "markdown",
   "metadata": {},
   "source": [
    "# Evaluation on Gradient Boosting"
   ]
  },
  {
   "cell_type": "code",
   "execution_count": null,
   "metadata": {},
   "outputs": [],
   "source": [
    "boost_clf = xgb.XGBClassifier()\n",
    "boost_clf.fit(x_train, y_train)\n",
    "\n",
    "# Show training accuracy\n",
    "acc_boost = round(boost_clf.score(x_train, y_train) * 100, 2)\n",
    "acc_boost"
   ]
  }
 ],
 "metadata": {
  "_change_revision": 3,
  "_is_fork": false,
  "kernelspec": {
   "display_name": "cse6363",
   "language": "python",
   "name": "python3"
  },
  "language_info": {
   "codemirror_mode": {
    "name": "ipython",
    "version": 3
   },
   "file_extension": ".py",
   "mimetype": "text/x-python",
   "name": "python",
   "nbconvert_exporter": "python",
   "pygments_lexer": "ipython3",
   "version": "3.12.3"
  }
 },
 "nbformat": 4,
 "nbformat_minor": 4
}
