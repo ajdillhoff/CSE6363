{
 "cells": [
  {
   "cell_type": "code",
   "execution_count": null,
   "id": "d30ef3c5",
   "metadata": {},
   "outputs": [],
   "source": [
    "%matplotlib inline\n",
    "\n",
    "import random\n",
    "\n",
    "import numpy as np\n",
    "import matplotlib.pyplot as plt\n",
    "\n",
    "from sklearn.datasets import fetch_openml\n",
    "from sklearn.model_selection import train_test_split\n",
    "from sklearn.naive_bayes import BernoulliNB"
   ]
  },
  {
   "cell_type": "code",
   "execution_count": null,
   "id": "c7a2b64d",
   "metadata": {},
   "outputs": [],
   "source": [
    "data, targets = fetch_openml(\"mnist_784\", version=1, return_X_y=True, as_frame=False)"
   ]
  },
  {
   "cell_type": "code",
   "execution_count": null,
   "id": "23b1b196",
   "metadata": {},
   "outputs": [],
   "source": [
    "data_train = data[:60000]\n",
    "targets_train = targets[:60000]\n",
    "data_test = data[60000:]\n",
    "targets_test = targets[60000:]\n",
    "\n",
    "# Split data_train into a training and validation set\n",
    "data_train, data_val, targets_train, targets_val = train_test_split(data_train, targets_train, test_size=0.2, random_state=0, stratify=targets_train)\n",
    "\n",
    "nbc = BernoulliNB().fit(data_train, targets_train)"
   ]
  },
  {
   "cell_type": "code",
   "execution_count": null,
   "id": "c4440fa9",
   "metadata": {},
   "outputs": [],
   "source": [
    "# View Samples\n",
    "num_rows = 8\n",
    "num_cols = 8\n",
    "fig = plt.figure()\n",
    "for i in range(num_rows):\n",
    "    for j in range(num_cols):\n",
    "        idx = i * num_cols + j\n",
    "        ax = fig.add_subplot(num_rows, num_cols, idx + 1)\n",
    "        ax.imshow(data_train[idx].reshape((28, 28)))\n",
    "        ax.xaxis.set_visible(False)\n",
    "        ax.yaxis.set_visible(False)"
   ]
  },
  {
   "cell_type": "code",
   "execution_count": null,
   "id": "915d5dfa",
   "metadata": {},
   "outputs": [],
   "source": [
    "train_acc = nbc.score(data_train, targets_train)\n",
    "test_acc = nbc.score(data_test, targets_test)\n",
    "print(f\"Training Accuracy = {train_acc}\\nTest Accuracy = {test_acc}\")"
   ]
  },
  {
   "cell_type": "code",
   "execution_count": null,
   "id": "df077f85",
   "metadata": {},
   "outputs": [],
   "source": [
    "params = nbc.feature_log_prob_\n",
    "print(params.shape)\n",
    "\n",
    "fig = plt.figure()\n",
    "for i in range(2):\n",
    "    for j in range(5):\n",
    "        idx = i * 5 + j\n",
    "        ax = fig.add_subplot(2, 5, idx + 1)\n",
    "        ax.imshow(params[idx].reshape((28, 28)))\n",
    "        ax.xaxis.set_visible(False)\n",
    "        ax.yaxis.set_visible(False)"
   ]
  },
  {
   "cell_type": "code",
   "execution_count": null,
   "id": "7548ca9a",
   "metadata": {},
   "outputs": [],
   "source": [
    "idx = random.randint(0, len(targets_test) - 1)\n",
    "prediction = nbc.predict(data_test)\n",
    "label = targets_test[idx]\n",
    "\n",
    "fig = plt.figure()\n",
    "ax = fig.add_subplot(111)\n",
    "ax.imshow(data_test[idx].reshape((28, 28)))\n",
    "ax.set_title(f\"Class: {prediction[idx]}\\nTarget: {label}\");"
   ]
  }
 ],
 "metadata": {
  "kernelspec": {
   "display_name": "cse6363",
   "language": "python",
   "name": "python3"
  },
  "language_info": {
   "codemirror_mode": {
    "name": "ipython",
    "version": 3
   },
   "file_extension": ".py",
   "mimetype": "text/x-python",
   "name": "python",
   "nbconvert_exporter": "python",
   "pygments_lexer": "ipython3",
   "version": "3.12.3"
  }
 },
 "nbformat": 4,
 "nbformat_minor": 5
}
